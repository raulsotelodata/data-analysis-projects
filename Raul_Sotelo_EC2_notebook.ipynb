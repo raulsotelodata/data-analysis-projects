{
 "cells": [
  {
   "cell_type": "markdown",
   "id": "bd023b18",
   "metadata": {},
   "source": [
    "# Understanding the alternative fuel vehicles market in the US"
   ]
  },
  {
   "cell_type": "markdown",
   "id": "5078dfd9",
   "metadata": {
    "tags": [
     "4_min"
    ]
   },
   "source": [
    "## Introduction\n",
    "\n",
    "**Business Context.** You are an analyst at the ICCT ([International Council on Clean Transportation](https://theicct.org/mission-history)), an NGO that provides research to environmental authorities around the world. You are part of a team that is preparing a report on the alternative fuel vehicles (AFV) market in the United States, with a particular focus on the state of Washington.\n",
    "\n",
    "**Business Problem.** Your job is to **provide a characterization of the AFV market in the US and in Washington, including data about energy efficiency of the vehicles over time, geographical distribution, etc.**\n",
    "\n",
    "**Analytical Context.** You will be working with three Excel files that contain the raw data. The first one is  [`us_sales_fellow.xlsx`](data/us_sales_fellow.xlsx), which contains aggregated sales figures for the US; the second one is [`us_ranges_fellow.xlsx`](data/us_ranges_fellow.xlsx), which has data about ranges of electrical vehicles. These data files come from the US Department of Energy. The last one is [`washington_evs_fellow.xlsx`](data/washington_evs_fellow.xlsx), which is a census of all the electric vehicles in circulation in Washington state. This census data comes from the Washington State Department of Licensing.\n",
    "\n",
    "**Note:** For this extended case, you will need to submit one consolidated Excel file with your answers in addition to this notebook."
   ]
  },
  {
   "cell_type": "markdown",
   "id": "95401522",
   "metadata": {
    "tags": [
     "4_min"
    ]
   },
   "source": [
    "## Alternative fuel vehicles in the US\n",
    "\n",
    "[Alternative fuel vehicles (AFV)](https://en.wikipedia.org/wiki/Alternative_fuel_vehicle) are vehicles that run either partially or totally on an energy source that is not gasoline or diesel, such as ethanol, solar power, electricity, or hydrogen. Some AFVs are highly efficient and, perhaps more importantly, have reduced greenhouse gas emissions relative to traditional vehicles, which makes them an important part of environmental recovery and protection plans around the globe.\n",
    "\n",
    "This chart shows the distribution of light-duty AFVs in the US as of Dec. 31, 2018:\n",
    "\n",
    "![](data/images/light-duty-afv-registrat.png)\n",
    "\n",
    "**Legend:** *FFV:* Flexible fuel vehicle (cars that run on biofuels or mixtures of gas and biofuels - most of the FFVs in the US operate primarily on gasoline, see [here](https://afdc.energy.gov/vehicles/flexible_fuel.html) for more information). *HEV:* Hybrid electric vehicle. *CNG:* Compressed natural gas. *EV:* Electric vehicle. *PHEV:* Plug-in hybrid electric vehicle. PHEVs and EVs are often counted as a single category, Plug-in electric vehicles (*PEV*s). **Source:** Alternative Fuels Data Center, US Department of Energy."
   ]
  },
  {
   "cell_type": "markdown",
   "id": "792cf20b",
   "metadata": {
    "tags": [
     "10_min"
    ]
   },
   "source": [
    "### Exercise 1\n",
    "\n",
    "Write a paragraph with an interpretation of this chart in your own words."
   ]
  },
  {
   "cell_type": "markdown",
   "id": "fc6c2aa0",
   "metadata": {
    "tags": [
     "ans_st"
    ]
   },
   "source": [
    "**Answer.**\n",
    "\n",
    "The Light-Duty AFV Registrations pie chart shows the US market disparity when it comes to alternative fuel vehicles, with flex-fuel vehicles dominating the market at 80.64%. Yet, there is competition in the market with other fuel alternatives such as HEV (15.54%), EV (1.98%), PHEV (1.72%), and CNG (.11%). In the current AFV market, there is still a reliance on gasoline with 97.9%, FFV, HEV, and PHEV, of the market that still relying on gasoline while the other 2.1% use their fuel source. Unlike traditional gas-powered vehicles, these AFVs are more efficient and cause less harm than their counterparts, and as technology evolves this positive impact will increase. But, from the pie chart alone we can not see the impact on a large scale because the pie chart does not have the number of vehicles. The quantity is important because this could be a sample size of 20 vehicles or 20,000 but we have no way of knowing without any context.\n"
   ]
  },
  {
   "cell_type": "markdown",
   "id": "0ea2c3af",
   "metadata": {},
   "source": [
    "-------"
   ]
  },
  {
   "cell_type": "markdown",
   "id": "8b7c4dad",
   "metadata": {
    "tags": [
     "10_min"
    ]
   },
   "source": [
    "### Exercise 2\n",
    "\n",
    "Read this excerpt from [this page](https://afdc.energy.gov/vehicles/flexible_fuel.html) about flexible fuel vehicles:\n",
    "\n",
    "> Flexible fuel vehicles (FFVs) have an internal combustion engine and are capable of operating on gasoline and any blend of gasoline and ethanol up to 83%. E85 (or flex fuel) is a gasoline-ethanol blend containing 51% to 83% ethanol, depending on geography and season. According to IHS Markit, as of 2017, there were more than 21 million FFVs in the United States. Because FFVs are factory made and are capable of operating on gasoline and gasoline-ethanol blends, many vehicle owners don't realize their car is an FFV and that they have a choice of fuels to use.\n",
    "\n",
    "What implications does this have for your analysis?"
   ]
  },
  {
   "cell_type": "markdown",
   "id": "2e44742a",
   "metadata": {
    "tags": [
     "ans_st"
    ]
   },
   "source": [
    "**Answer.**\n",
    "\n",
    "    Yes, because the owner is unaware of the capabilities of their vehicle,  and they are still using regular gasoline and not utilizing the alternative fuel capabilities. The number of flex-fuel vehicles stays the same, but those using e85 may or may not be lower depending on their owner's knowledge of fuels they can use. In conclusion, the benefits of using alternative fuels may not have a positive impact due to the owner's negligence. "
   ]
  },
  {
   "cell_type": "markdown",
   "id": "94da2cb3",
   "metadata": {},
   "source": [
    "-------"
   ]
  },
  {
   "cell_type": "markdown",
   "id": "84451664",
   "metadata": {
    "tags": [
     "30_min"
    ]
   },
   "source": [
    "### Exercise 3\n",
    "\n",
    "Your team would like to know how the sales of fully electric vehicles compare to those of plug-in hybrid electric vehicles over time. Open the [`us_sales_fellow.xlsx`](data/us_sales_fellow.xlsx) file. The `models` worksheet has a list of all the models in the dataset with their type (either EV or PHEV) and the `sales` worksheet shows how many units were sold of each model in each year between 2011 and 2019. Make a pivot table that has these rows and columns (insert it in a new worksheet):\n",
    "\n",
    "![US sales pivot table](data/images/us_sales_pivot.png)\n",
    "\n",
    "**Hint:** You will need to use the `INDEX()` and `MATCH()` functions."
   ]
  },
  {
   "cell_type": "markdown",
   "id": "2ae21586",
   "metadata": {
    "tags": [
     "10_min"
    ]
   },
   "source": [
    "### Exercise 4\n",
    "\n",
    "The figures you have just calculated can be represented using the below plots. Provide a paragraph in which you explain in your own words what can be inferred from them:\n",
    "\n",
    "![US sales bar plot total](data/images/us_sales_bar_total.png)\n",
    "![US sales bar plot by type](data/images/us_sales_bar_type.png)"
   ]
  },
  {
   "cell_type": "markdown",
   "id": "c48ffb60",
   "metadata": {
    "tags": [
     "ans_st"
    ]
   },
   "source": [
    "**Answer.**\n",
    "The amount of units sold sky rocketed from 2017 to 2018 by 165,734 sales, with more than half of these sales being EV with minimal PHEV being sold. While EVs gained popularity it seems PHEVs faced less recognition and would face drops after a couple years of growth. EVs however continuously faced growth and even exploded in sales. This increase could be influenced by government programs, better advertising, or improvement in technology, more charging stations, better AI, etc. Also, it would be interesting to see how these sales compare to non-AFVs in a similar price range and the difference. "
   ]
  },
  {
   "cell_type": "markdown",
   "id": "e498c13f",
   "metadata": {},
   "source": [
    "-------"
   ]
  },
  {
   "cell_type": "markdown",
   "id": "4556b356",
   "metadata": {
    "tags": [
     "35_min"
    ]
   },
   "source": [
    "### Exercise 5 (hard)\n",
    "\n",
    "Let's now investigate the ranges of electric vehicles in the US. The range of an electric vehicle is the theoretical number of miles it can travel without needing to be recharged.\n",
    "\n",
    "The data has come to you in the [`us_ranges_fellow.xlsx`](data/us_ranges_fellow.xlsx) file. It contains range data for a number of EV models in the form of text strings. For example, `2013 Toyota - Scion Iq 038` means that the range of a Toyota Scion Iq model 2013 is 38 miles. Your job is to use Excel functions to create a table out of this data with the four columns `YEAR`, `MAKE`, `MODEL`, and `RANGE`, to end up with something like this:\n",
    "\n",
    "![Us ranges data wrangling](data/images/wrangled.png)\n",
    "\n",
    "**Hint:** Use the `FIND()`, `LEN()`, `RIGHT()`, `LEFT()`, `TRIM()`, and `VALUE()` functions to wrangle the data. Notice that all years have four characters and all ranges have three."
   ]
  },
  {
   "cell_type": "markdown",
   "id": "dc12f9ac",
   "metadata": {
    "tags": [
     "10_min"
    ]
   },
   "source": [
    "### Exercise 6\n",
    "\n",
    "This is a histogram made with the data from Exercise 5:\n",
    "\n",
    "![Histogram of range](data/images/histogram.png)\n",
    "\n",
    "There is a gap in the interval from ~147 to ~228 miles. What does that mean? What could be causing it?"
   ]
  },
  {
   "cell_type": "markdown",
   "id": "ad968483",
   "metadata": {
    "tags": [
     "ans_st"
    ]
   },
   "source": [
    "**Answer.**\n",
    "The gap from ~147 to ~228 miles could be multiple things that are influencing the data and visualizations. The gap in data could be due to having a small sample size of just 65 cars. Having such a small sample size can lead to biases as shown above where the data has missing information and does not show the whole picture and can lead to an incorrect analysis. Additionally, the gap could be attributed to an advancement in technology where early AFVs were limited to 125 miles on solely electric range and once the technology was developed were car manufactures able to extend the range. Alternatively, some vehicles are a hybrid and rely on both gas and electricity such as PHEVs, and HEVS and do not have the battery capacity for long distance electric ranges due to weight restrictions, battery modules take up a large amount of space and weight."
   ]
  },
  {
   "cell_type": "markdown",
   "id": "7469e3f2",
   "metadata": {},
   "source": [
    "-------"
   ]
  },
  {
   "cell_type": "markdown",
   "id": "166348a0",
   "metadata": {
    "tags": [
     "10_min"
    ]
   },
   "source": [
    "### Exercise 7\n",
    "\n",
    "Do newer cars have longer ranges?"
   ]
  },
  {
   "cell_type": "markdown",
   "id": "b03a7d02",
   "metadata": {
    "tags": [
     "ans_st"
    ]
   },
   "source": [
    "**Answer.**\n",
    "A majority of model's ranges stay the same throughout the years with a minority that improve their range. Most of the improvement was not seen until 2017 when manufacturers increased their ranges such as Volkswagen eGolf (+42 miles), Ford Focus (+39 miles), Nissan Leaf (+34 miles), BMW i3 (+17 miles),Tesla Model X (+8 miles) and Tesla Model S (+2 miles). Additionally, in 2017 manufactures released new models such as Tesla Model 3 (310 miles), Hundai Ioniq (124 miles), Honda Clarity (89 miles), and Chevorlet Bolt EV (238 miles). But, there were also those models that lost range such as smart fortwo (-10 miles), Mitsubishi iMiEV (-4 miles), and Fiat 500 (-3 miles). There were also those models that had no improvement such as Mercedes B (87 miles), Honda Fit EV (82 miles), Toyota Rav4 EV (103 miles), Kia Soul EV (93 miles), Chevrolet Spark EV (82 miles). Also, there were two models that were only produced for one year, Scion IQ (38 miles) and Transit Connect E (56 miles). In conclusion, newer cars do not necessarily have longer ranges as seen in the data, there are a lot of variables when considering range and can not base a conclusion solely on year."
   ]
  },
  {
   "cell_type": "markdown",
   "id": "4e7cbf81",
   "metadata": {},
   "source": [
    "-------"
   ]
  },
  {
   "cell_type": "markdown",
   "id": "c75cf7c9",
   "metadata": {},
   "source": [
    "## Electric vehicle population in Washington state\n",
    "\n",
    "Let's now move on to studying the population of electric vehicles in Washington State using pivot tables. The relevant file is [`washington_evs_fellow.xlsx`](data/washington_evs_fellow.xlsx)."
   ]
  },
  {
   "cell_type": "markdown",
   "id": "f4a8c505",
   "metadata": {
    "tags": [
     "7_min"
    ]
   },
   "source": [
    "### Exercise 8\n",
    "\n",
    "#### 8.1\n",
    "\n",
    "What are the 5 most popular makes in Washington?"
   ]
  },
  {
   "cell_type": "markdown",
   "id": "53eb7305",
   "metadata": {
    "tags": [
     "ans_st"
    ]
   },
   "source": [
    "**Answer.**\n",
    "The top 5 popular makes in Washington are Tesla (30961 units), Nissan (11807 units), Chevorlet (9396 units), Ford (4320 units), Kia (3754 units)."
   ]
  },
  {
   "cell_type": "markdown",
   "id": "2dd736bb",
   "metadata": {},
   "source": [
    "-------"
   ]
  },
  {
   "cell_type": "markdown",
   "id": "ee1e6e2f",
   "metadata": {
    "tags": [
     "7_min"
    ]
   },
   "source": [
    "#### 8.2\n",
    "\n",
    "What are the most common model years in Washington? Do this result and that of the previous exercise suggest that cars in Washington tend to have long ranges?"
   ]
  },
  {
   "cell_type": "markdown",
   "id": "ae42015e",
   "metadata": {
    "tags": [
     "ans_st"
    ]
   },
   "source": [
    "**Answer.**\n",
    "The top 5 common model years in Washington are 2018 (13768 units), 2020 (10923 units), 2019 (10500 units), 2017 (9822 units), 2021 (8772 units). In the Washington dataset newer models do usually have a longer range compared to previous year models. Washington's larger amount a data paints a clearer picture and shows that most newer AFVs are able to handle longer ranges and no longer face the problems of previous years. However, there are still issues with the data being that some vehicle ranges have yet to be researched and have an undetermined range. These gaps in information poses an issue as it does not show the complete picture and could dramatically change the averages."
   ]
  },
  {
   "cell_type": "markdown",
   "id": "8f86c13b",
   "metadata": {},
   "source": [
    "-------"
   ]
  },
  {
   "cell_type": "markdown",
   "id": "722dc556",
   "metadata": {
    "tags": [
     "6_min"
    ]
   },
   "source": [
    "### Exercise 9\n",
    "\n",
    "This is a histogram of vehicles in Washington state according to their ranges. Is it consistent with the hypothesis that cars there tend to have long ranges?\n",
    "\n",
    "![Histogram of ranges (Washington)](data/images/histogram_washington.png)\n",
    "\n",
    "**Note:** While the histogram you analyzed in Exercise 6 showed the distribution of ranges from a list of *models*, this histogram shows you the distribution from a list of *individual vehicles*, and therefore the two histograms are not comparable. The dataset from Exercise 6 had 65 models, while the Washington state dataset has 76,767 vehicles."
   ]
  },
  {
   "cell_type": "markdown",
   "id": "ba6b9b95",
   "metadata": {
    "tags": [
     "ans_st"
    ]
   },
   "source": [
    "**Answer.**\n",
    "The histogram of vehicles in Washington is not consistent with the hypothesis that cars there tend to have long ranges. A majority of car ranges are focused on the lower end of the spectrum and contradict this hyposis. ~30% of the cars included in the dataset have a range of [0,33.7] and ~20% have a range of [33.7,168.5]. In Washington the car ranges are ~50/50 on the low and high end. However, like previous analysis there is data missing where car's ranges have not been researched and could influence that data. \n"
   ]
  },
  {
   "cell_type": "markdown",
   "id": "77bbbdb8",
   "metadata": {},
   "source": [
    "-------"
   ]
  },
  {
   "cell_type": "markdown",
   "id": "138b8284",
   "metadata": {},
   "source": [
    "## Attribution\n",
    "\n",
    "\"Light-Duty AFV Registrations\", Aug 2020, Alternative Fuels Data Center, US Department of Energy, [Public Domain](https://www.energy.gov/about-us/web-policies), https://afdc.energy.gov/data/10861\n",
    "\n",
    "\"Electric Vehicle Population Data\", Aug 2021, Washington State Department of Licensing (DOL), [DOL Conditions of Use](https://www.dol.wa.gov/conditions.html) https://catalog.data.gov/dataset/electric-vehicle-population-data\n",
    "\n",
    "\"U.S. Plug-in Electric Vehicle Sales by Model\", Jan 2020, Alternative Fuels Data Center, US Department of Energy, [Public Domain](https://www.energy.gov/about-us/web-policies), https://afdc.energy.gov/data/10567\n",
    "\n",
    "\"Average Range and Efficiency of U.S. Electric Vehicles\", Jan 2020, Alternative Fuels Data Center, US Department of Energy, [Public Domain](https://www.energy.gov/about-us/web-policies), https://afdc.energy.gov/data/10963"
   ]
  }
 ],
 "metadata": {
  "c1_recart": "7.26.0-57c20131aabc1dc2a8c675852d80a7da",
  "kernelspec": {
   "display_name": "Python 3",
   "language": "python",
   "name": "python3"
  },
  "language_info": {
   "codemirror_mode": {
    "name": "ipython",
    "version": 3
   },
   "file_extension": ".py",
   "mimetype": "text/x-python",
   "name": "python",
   "nbconvert_exporter": "python",
   "pygments_lexer": "ipython3",
   "version": "3.8.12"
  }
 },
 "nbformat": 4,
 "nbformat_minor": 5
}
