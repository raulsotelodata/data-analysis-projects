{
 "cells": [
  {
   "cell_type": "markdown",
   "id": "ff992982",
   "metadata": {
    "tags": [
     "168_min"
    ]
   },
   "source": [
    "# Analyzing student grades in the Open University"
   ]
  },
  {
   "cell_type": "markdown",
   "id": "f3a3cb13",
   "metadata": {
    "tags": [
     "8_min"
    ]
   },
   "source": [
    "## Introduction\n",
    "\n",
    "**Business context:** The [Open University](https://www.openuniversity.edu/) is one of the largest universities in the world by number of enrolled students. In recent years, it has been working on developing an analytics platform called [OU Analyse](https://analyse.kmi.open.ac.uk/) to track student performance across its many programs, with the aim of reducing dropout and increasing student engagement and learning. Their analytics team is growing, and they have been actively looking to hire strong candidates. You have been shortlisted as one of them.\n",
    "\n",
    "**Business problem:** As part of the interviewing process, you have been given an anonymized dataset and asked to **compute the GPA (Grade Point Average) for all students in the October 2014 cohort and create a Tableau dashboard that includes their GPAs and demographic data**.\n",
    "\n",
    "**Analytical context:** You will be working with a subset of the [OULA dataset](https://analyse.kmi.open.ac.uk/open_dataset), which contains demographic and assessment data for a number of UK-based students from the October 2014 cohort (coded as `2014J`). The data is in the [`OULA.xlsx`](data/OULA.xlsx) file. You will find four worksheets in this Excel file:\n",
    "\n",
    "* `student_info` contains demographic information about students as well as which \"module\" (course) they were enrolled in and whether they received a pass or a fail, or dropped out.\n",
    "* `modules` lists the different modules that the students could enroll in. The actual names have been replaced with three-letter codes for privacy reasons.\n",
    "* `assessments` has a table with all the assessments for each module, indicating the weight that each assessment had in the final grade.\n",
    "* `student_assessment` contains the actual grades that each student received in each assessment on a 0-100 scale. Most students in this sample only enrolled in one course, but there are some who enrolled in more.\n",
    "\n",
    "The full documentation can be found [here](https://analyse.kmi.open.ac.uk/open_dataset#description)."
   ]
  },
  {
   "cell_type": "markdown",
   "id": "a17077d6",
   "metadata": {},
   "source": [
    "## Preparing the dataset\n",
    "\n",
    "Before you create the dashboard, you need to prepare the dataset and compute the GPAs."
   ]
  },
  {
   "cell_type": "markdown",
   "id": "8ea6e26d",
   "metadata": {
    "tags": [
     "12_min"
    ]
   },
   "source": [
    "### Exercise 1\n",
    "\n",
    "Fill in column F of the `student_assessment` worksheet with the module to which each assessment corresponds. The modules associated to each assessment are in the `assessments` worksheet."
   ]
  },
  {
   "cell_type": "markdown",
   "id": "11d18593",
   "metadata": {
    "tags": [
     "ans_st"
    ]
   },
   "source": [
    "**Answer.**"
   ]
  },
  {
   "cell_type": "markdown",
   "id": "26681fcc",
   "metadata": {},
   "source": [
    "-------"
   ]
  },
  {
   "cell_type": "markdown",
   "id": "9ca03553",
   "metadata": {
    "tags": [
     "8_min"
    ]
   },
   "source": [
    "### Exercise 2\n",
    "\n",
    "Fill in column G of the `student_assessment` worksheet with the weight that is associated with each assessment. Remember that the weights are in the `assessments` worksheet."
   ]
  },
  {
   "cell_type": "markdown",
   "id": "e00fc25d",
   "metadata": {
    "tags": [
     "ans_st"
    ]
   },
   "source": [
    "**Answer.**"
   ]
  },
  {
   "cell_type": "markdown",
   "id": "5c24f024",
   "metadata": {},
   "source": [
    "-------"
   ]
  },
  {
   "cell_type": "markdown",
   "id": "0d0ec8cb",
   "metadata": {},
   "source": [
    "After solving the previous exercises, your worksheet should look like this:\n",
    "\n",
    "![Prepared dataset](data/images/prepared_dataset.png)"
   ]
  },
  {
   "cell_type": "markdown",
   "id": "4a9a5b7e",
   "metadata": {
    "tags": [
     "5_min"
    ]
   },
   "source": [
    "## Calculating the GPAs\n",
    "\n",
    "Now we are ready to compute the GPA for each student-module pair. Since every assessment has a different weight, this will need to be a *weighted* GPA; i.e. a weighted average. The formula for a weighted average is this:\n",
    "\n",
    "$$\n",
    "GPA = \\frac{score_1 \\times weight_1 + score_2 \\times weight_2 + ... + score_n \\times weight_n}{\\text{sum of } weight}\n",
    "$$\n",
    "\n",
    "It is equivalent to this:\n",
    "\n",
    "$$\n",
    "GPA = \\frac{score_1 \\times weight_1}{\\text{sum of } weight} + \\frac{score_2 \\times weight_2}{\\text{sum of } weight} + ... + \\frac{score_n \\times weight_n}{\\text{sum of } weight}\n",
    "$$\n",
    "\n",
    "For instance, let's say that a student obtained the following grades:\n",
    "\n",
    "| Assessment | Grade | Weight |\n",
    "| --- | --- | --- |\n",
    "| Homework 1 | 82 | 5 |\n",
    "| Homework 2 | 70 | 5 |\n",
    "| Quiz | 87 | 10 |\n",
    "| Project | 60 | 50 |\n",
    "| Final exam | 90 | 30 |\n",
    "\n",
    "Notice that the sum of all the weights is 100. The student's GPA would be:\n",
    "\n",
    "$$\n",
    "\\begin{align}\n",
    "GPA &= \\frac{5\\times82}{100} + \\frac{5\\times70}{100} + \\frac{10\\times87}{100} + \\frac{50\\times60}{100} + \\frac{30\\times90}{100} \\\\\n",
    "&= 4.1 + 3.5 + 8.7 + 30 + 27 \\\\\n",
    "&= 73.3\n",
    "\\end{align}\n",
    "$$"
   ]
  },
  {
   "cell_type": "markdown",
   "id": "c9677f80",
   "metadata": {
    "tags": [
     "10_min"
    ]
   },
   "source": [
    "### Exercise 3\n",
    "\n",
    "Before we can compute the GPAs, we need to know the sums of the weights for each module (the $\\text{sum of } weight$ terms in the formula above). In theory, the assessments in each module should add up to a total of 200 points (100 points for ordinary assessments plus 100 points for the final exam). However, this isn't true for all modules in this sample.\n",
    "\n",
    "Calculate the sum of the weights for each `code_module` using a pivot table. Place it in a new worksheet called `weight_sums`."
   ]
  },
  {
   "cell_type": "markdown",
   "id": "e8d01839",
   "metadata": {
    "tags": [
     "ans_st"
    ]
   },
   "source": [
    "**Answer.**"
   ]
  },
  {
   "cell_type": "markdown",
   "id": "fde8a17c",
   "metadata": {},
   "source": [
    "-------"
   ]
  },
  {
   "cell_type": "markdown",
   "id": "d19b08c2",
   "metadata": {
    "tags": [
     "7_min"
    ]
   },
   "source": [
    "### Exercise 4\n",
    "\n",
    "Using the `VLOOKUP()` function, fill column H in the `student_assessment` worksheet with the sums of the weights you calculated in Exercise 3. Name the column `weight_sum`. Remember that the sum of weights is particular to each module."
   ]
  },
  {
   "cell_type": "markdown",
   "id": "0c2d8b5a",
   "metadata": {
    "tags": [
     "ans_st"
    ]
   },
   "source": [
    "**Answer.**"
   ]
  },
  {
   "cell_type": "markdown",
   "id": "8c4fdd9c",
   "metadata": {},
   "source": [
    "-------"
   ]
  },
  {
   "cell_type": "markdown",
   "id": "9dd1c253",
   "metadata": {
    "tags": [
     "3_min"
    ]
   },
   "source": [
    "### Exercise 5\n",
    "\n",
    "#### 5.1\n",
    "\n",
    "Compute the product $score \\times weight$ in column I of the `student_assessment` worksheet for each student-assessment pair. Name the column `score x weight`."
   ]
  },
  {
   "cell_type": "markdown",
   "id": "75ab9198",
   "metadata": {
    "tags": [
     "ans_st"
    ]
   },
   "source": [
    "**Answer.**"
   ]
  },
  {
   "cell_type": "markdown",
   "id": "e21eddf1",
   "metadata": {},
   "source": [
    "-------"
   ]
  },
  {
   "cell_type": "markdown",
   "id": "44661462",
   "metadata": {
    "tags": [
     "3_min"
    ]
   },
   "source": [
    "#### 5.2\n",
    "\n",
    "For each student and assessment pair, compute the quantity\n",
    "\n",
    "$$\n",
    "\\frac{score \\times weight}{\\text{sum of } weight}\n",
    "$$\n",
    "\n",
    "and put it in column J in the `student_assessment` worksheet.\n",
    "\n",
    "The `student_assessment` worksheet should look like this after you add this column:\n",
    "\n",
    "![Student assessment worksheet](data/images/student_assessment.png)"
   ]
  },
  {
   "cell_type": "markdown",
   "id": "7ad03f2b",
   "metadata": {
    "tags": [
     "ans_st"
    ]
   },
   "source": [
    "**Answer.**"
   ]
  },
  {
   "cell_type": "markdown",
   "id": "9a898deb",
   "metadata": {},
   "source": [
    "-------"
   ]
  },
  {
   "cell_type": "markdown",
   "id": "798664a5",
   "metadata": {
    "tags": [
     "7_min"
    ]
   },
   "source": [
    "### Exercise 6\n",
    "\n",
    "Calculate the GPAs for each student in each course, using a pivot table. Put it in a new worksheet called `gpas`. The rows should be the individual students' IDs, and the columns should be the modules. Each cell should correspond to the GPA that each particular student obtained in each module.\n",
    "\n",
    "This is a sample of what your pivot table should look like:\n",
    "\n",
    "<table>\n",
    "<thead>\n",
    "  <tr>\n",
    "    <th>Row Labels</th>\n",
    "    <th>AAA</th>\n",
    "    <th>BBB</th>\n",
    "    <th>CCC</th>\n",
    "    <th>DDD</th>\n",
    "    <th>EEE</th>\n",
    "    <th>FFF</th>\n",
    "    <th>GGG</th>\n",
    "  </tr>\n",
    "</thead>\n",
    "<tbody>\n",
    "  <tr>\n",
    "    <td>6516</td>\n",
    "    <td>31.75</td>\n",
    "    <td></td>\n",
    "    <td></td>\n",
    "    <td></td>\n",
    "    <td></td>\n",
    "    <td></td>\n",
    "    <td></td>\n",
    "  </tr>\n",
    "  <tr>\n",
    "    <td>8462</td>\n",
    "    <td></td>\n",
    "    <td></td>\n",
    "    <td></td>\n",
    "    <td>21.5</td>\n",
    "    <td></td>\n",
    "    <td></td>\n",
    "    <td></td>\n",
    "  </tr>\n",
    "  <tr>\n",
    "    <td>23698</td>\n",
    "    <td></td>\n",
    "    <td></td>\n",
    "    <td>49.99</td>\n",
    "    <td></td>\n",
    "    <td></td>\n",
    "    <td></td>\n",
    "    <td></td>\n",
    "  </tr>\n",
    "  <tr>\n",
    "    <td>24734</td>\n",
    "    <td>23.75</td>\n",
    "    <td></td>\n",
    "    <td></td>\n",
    "    <td></td>\n",
    "    <td></td>\n",
    "    <td></td>\n",
    "    <td></td>\n",
    "  </tr>\n",
    "  <tr>\n",
    "    <td>25261</td>\n",
    "    <td></td>\n",
    "    <td></td>\n",
    "    <td>0.52</td>\n",
    "    <td></td>\n",
    "    <td></td>\n",
    "    <td></td>\n",
    "    <td></td>\n",
    "  </tr>\n",
    "  <tr>\n",
    "    <td>25572</td>\n",
    "    <td></td>\n",
    "    <td></td>\n",
    "    <td></td>\n",
    "    <td>3.5</td>\n",
    "    <td></td>\n",
    "    <td></td>\n",
    "    <td></td>\n",
    "  </tr>\n",
    "  <tr>\n",
    "    <td>26192</td>\n",
    "    <td>43.15</td>\n",
    "    <td></td>\n",
    "    <td></td>\n",
    "    <td></td>\n",
    "    <td></td>\n",
    "    <td></td>\n",
    "    <td></td>\n",
    "  </tr>\n",
    "  <tr>\n",
    "    <td>26315</td>\n",
    "    <td></td>\n",
    "    <td>31.9</td>\n",
    "    <td></td>\n",
    "    <td></td>\n",
    "    <td></td>\n",
    "    <td></td>\n",
    "    <td></td>\n",
    "  </tr>\n",
    "  <tr>\n",
    "    <td>26734</td>\n",
    "    <td></td>\n",
    "    <td>9.25</td>\n",
    "    <td></td>\n",
    "    <td></td>\n",
    "    <td></td>\n",
    "    <td></td>\n",
    "    <td></td>\n",
    "  </tr>\n",
    "  <tr>\n",
    "    <td>27116</td>\n",
    "    <td></td>\n",
    "    <td></td>\n",
    "    <td>62.67333333</td>\n",
    "    <td></td>\n",
    "    <td></td>\n",
    "    <td></td>\n",
    "    <td></td>\n",
    "  </tr>\n",
    "  <tr>\n",
    "    <td>27417</td>\n",
    "    <td></td>\n",
    "    <td></td>\n",
    "    <td></td>\n",
    "    <td>14.025</td>\n",
    "    <td></td>\n",
    "    <td></td>\n",
    "    <td></td>\n",
    "  </tr>\n",
    "  <tr>\n",
    "    <td>28061</td>\n",
    "    <td>38.7</td>\n",
    "    <td></td>\n",
    "    <td></td>\n",
    "    <td></td>\n",
    "    <td></td>\n",
    "    <td></td>\n",
    "    <td></td>\n",
    "  </tr>\n",
    "  <tr>\n",
    "    <td>28787</td>\n",
    "    <td></td>\n",
    "    <td></td>\n",
    "    <td>18.66</td>\n",
    "    <td></td>\n",
    "    <td></td>\n",
    "    <td></td>\n",
    "    <td></td>\n",
    "  </tr>\n",
    "  <tr>\n",
    "    <td>28952</td>\n",
    "    <td></td>\n",
    "    <td></td>\n",
    "    <td>2.006666667</td>\n",
    "    <td></td>\n",
    "    <td></td>\n",
    "    <td></td>\n",
    "    <td></td>\n",
    "  </tr>\n",
    "  <tr>\n",
    "    <td>29411</td>\n",
    "    <td></td>\n",
    "    <td></td>\n",
    "    <td>0.42</td>\n",
    "    <td></td>\n",
    "    <td></td>\n",
    "    <td></td>\n",
    "    <td></td>\n",
    "  </tr>\n",
    "  <tr>\n",
    "    <td>...</td>\n",
    "    <td>...</td>\n",
    "    <td>...</td>\n",
    "    <td>...</td>\n",
    "    <td>...</td>\n",
    "    <td>...</td>\n",
    "    <td>...</td>\n",
    "    <td>...</td>\n",
    "  </tr>\n",
    "</tbody>\n",
    "</table>\n",
    "\n",
    "**Hint:** You can remove the \"Grand Totals\" row and column from your pivot table. To do so, after you have created it, right-click on it and select `Show settings`. Then uncheck the boxes below `Show grand totals for` (if you are using a Mac, after you right-click you will probably see the option to remove the grand total immediately)."
   ]
  },
  {
   "cell_type": "markdown",
   "id": "10150d9f",
   "metadata": {
    "tags": [
     "ans_st"
    ]
   },
   "source": [
    "**Answer.**"
   ]
  },
  {
   "cell_type": "markdown",
   "id": "3d6137a6",
   "metadata": {},
   "source": [
    "-------"
   ]
  },
  {
   "cell_type": "markdown",
   "id": "33a95b10",
   "metadata": {
    "tags": [
     "15_min"
    ]
   },
   "source": [
    "### Exercise 7\n",
    "\n",
    "Now reference the GPAs from the pivot table in the `gpas` worksheet to a new column in the `student_info` worksheet. Call the new column `student_module_gpa`. Your worksheet should end up looking like this:\n",
    "\n",
    "![Student & module GPA](data/images/student_module_gpa.png)\n",
    "\n",
    "**Hint:** Use `INDEX()` + `MATCH()` (get the positions of the assessment and the student ID with `MATCH()` - one `MATCH()` for the column and another one for the row). Remember that there is one GPA for each student-module pair.\n",
    "\n",
    "**Note:** Some students have a \"Fail\" as their final result even though they obtained a relatively high grade. This is because those students did not present the final exam and therefore were disqualified from receiving a degree."
   ]
  },
  {
   "cell_type": "markdown",
   "id": "1b580884",
   "metadata": {
    "tags": [
     "ans_st"
    ]
   },
   "source": [
    "**Answer.**"
   ]
  },
  {
   "cell_type": "markdown",
   "id": "a43304a0",
   "metadata": {},
   "source": [
    "-------"
   ]
  },
  {
   "cell_type": "markdown",
   "id": "91ecd3a0",
   "metadata": {
    "tags": [
     "90_min"
    ]
   },
   "source": [
    "## Creating the dashboard\n",
    "\n",
    "### Exercise 8\n",
    "\n",
    "Now we have all the data that we need! Load the `student_info` worksheet into Tableau and make a dashboard that allows the user to visualize the relationships between the following dimensions:\n",
    "\n",
    "* Age\n",
    "* Gender\n",
    "* Module\n",
    "* Region\n",
    "* Previous education\n",
    "\n",
    "and the following metrics:\n",
    "\n",
    "* Average GPA\n",
    "* Student count\n",
    "\n",
    "It should also allow for filtering the data by multiple dimensions; e.g. \"What is the average GPA of students who took the AAA module *and* were in Scotland?\".\n",
    "\n",
    "You will need to both *design and implement* the dashboard yourself, using the principles and tutorials you saw in previous cases. Paste the link to the Tableau Public dashboard in a new cell below."
   ]
  },
  {
   "cell_type": "markdown",
   "id": "bb9ae2a5",
   "metadata": {
    "tags": [
     "ans_st"
    ]
   },
   "source": [
    "**Answer.**\n",
    "https://public.tableau.com/app/profile/raul.sotelo/viz/Raul_Sotelo_EC3/OpenUniversityStats\n"
   ]
  },
  {
   "cell_type": "markdown",
   "id": "4e567aac",
   "metadata": {},
   "source": [
    "-------"
   ]
  },
  {
   "cell_type": "markdown",
   "id": "703e6dd7",
   "metadata": {},
   "source": [
    "## Attribution\n",
    "\n",
    "\"Open University Learning Analytics dataset\", Kuzilek J., Hlosta M., Zdrahal Z., 2017, Creative Commons Attribution 4.0, https://www.nature.com/articles/sdata2017171, Sci. Data 4:170171 doi: 10.1038/sdata.2017.171"
   ]
  }
 ],
 "metadata": {
  "c1_recart": "7.28.0-57c20131aabc1dc2a8c675852d80a7da",
  "kernelspec": {
   "display_name": "Python 3",
   "language": "python",
   "name": "python3"
  },
  "language_info": {
   "codemirror_mode": {
    "name": "ipython",
    "version": 3
   },
   "file_extension": ".py",
   "mimetype": "text/x-python",
   "name": "python",
   "nbconvert_exporter": "python",
   "pygments_lexer": "ipython3",
   "version": "3.8.12"
  }
 },
 "nbformat": 4,
 "nbformat_minor": 5
}
